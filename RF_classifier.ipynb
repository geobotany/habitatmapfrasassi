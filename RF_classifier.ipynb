{
 "cells": [
  {
   "cell_type": "code",
   "execution_count": null,
   "metadata": {},
   "outputs": [],
   "source": [
    "library(raster)\n",
    "library(caret)\n",
    "library(randomForest)"
   ]
  },
  {
   "cell_type": "code",
   "execution_count": 34,
   "metadata": {},
   "outputs": [],
   "source": [
    "set.seed(1000)\n",
    "#loading reference data \n",
    "RD.files <- './Data/Reference_Data.shp'\n",
    "RD <- shapefile(RD.files)\n",
    "\n",
    "#loading predictors (mean seasonal spectral variations represented by FPCA scores rasters) \n",
    "\n",
    "data.folder <- './Data/Predictors'\n",
    "\n",
    "#file.names <- list.files(data.folder, pattern='*.tif$') #uncomment to take all the predictors\n",
    "file.names <- list.files(data.folder, pattern='f_') #this takes the NDVI...change the pattern to load the proper predictor\n",
    "file.paths <- paste(data.folder, file.names, sep=\"/\")\n",
    "\n",
    "# creating a RasterStack object containing all FPCA scores pixels (all seasonal spectral variations)\n",
    "predictors <- stack(file.paths)\n",
    "crs(predictors) <- crs(RD)"
   ]
  },
  {
   "cell_type": "code",
   "execution_count": null,
   "metadata": {},
   "outputs": [],
   "source": [
    "#extract values from predictors at reference data location\n",
    "pred.val <- extract(predictors,RD, method = 'bilinear')\n",
    "#creating training data \n",
    "dataset <- as.data.frame(pred.val)\n",
    "dataset$CLASS <- RD$Class"
   ]
  },
  {
   "cell_type": "code",
   "execution_count": null,
   "metadata": {},
   "outputs": [],
   "source": [
    "#downsampling\n",
    "nc <- length(unique(dataset$CLASS)) #number of target classes\n",
    "c1 <- length(colnames(dataset)) #number of predictors\n",
    "sample <- rep(ceiling(0.75*min(table(dataset$CLASS))),nc)"
   ]
  },
  {
   "cell_type": "code",
   "execution_count": null,
   "metadata": {},
   "outputs": [],
   "source": [
    "#Random Forest Recursive Feature Elimination \n",
    "subsets <- seq(2,ncol(dataset)-1,3)\n",
    "set.seed(1000)\n",
    "ctrl <- rfeControl(functions = rfFuncs,\n",
    "               method = \"repeatedcv\",\n",
    "               number = 10,\n",
    "               repeats = 5,\n",
    "               verbose = F)\n",
    "\n",
    "prProfile <- rfe(x=dataset[, c(1:ncol(dataset)-1)], y=as.factor(dataset$CLASS),\n",
    "                 sizes = subsets,\n",
    "                 rfeControl = ctrl)\n",
    "\n",
    "pr <- predictors(prProfile)[1: prProfile$bestSubset]"
   ]
  },
  {
   "cell_type": "code",
   "execution_count": null,
   "metadata": {},
   "outputs": [],
   "source": [
    "#training the model\n",
    "set.seed(1000)\n",
    "ctrl <- trainControl(method = \"repeatedcv\",number = 10, repeats = 5)\n",
    "dataset <- dataset[,c(pr,'CLASS')]\n",
    "\n",
    "#dataset <- dataset\n",
    "mtry <- 1:sqrt(ncol(dataset))\n",
    "tunegrid <- expand.grid(.mtry=mtry)\n",
    "rfDownsampled <- train(as.factor(CLASS) ~ ., data = dataset,\n",
    "                         method = \"rf\",\n",
    "                         ntree = 1500,\n",
    "                         tuneGrid = tunegrid,\n",
    "                         metric = \"Accuracy\",\n",
    "                         strata = as.factor(dataset$CLASS),\n",
    "                         trControl = ctrl,\n",
    "                         sampsize = sample)"
   ]
  },
  {
   "cell_type": "code",
   "execution_count": null,
   "metadata": {},
   "outputs": [],
   "source": [
    "#resampling at 10m\n",
    "map <- predict(disaggregate(predictors, c(2,2), method = 'bilinear'),rfDownsampled)\n",
    "#plot map\n",
    "plot(map)\n",
    "#export raster\n",
    "writeRaster(map, './Data/Results/VegetationMap.tif',datatype = 'INT2S')"
   ]
  },
  {
   "cell_type": "code",
   "execution_count": null,
   "metadata": {},
   "outputs": [],
   "source": [
    "#export raster\n",
    "writeRaster(map, './Data/Results/VegetationMap.tif',datatype = 'INT2S', overwrite=TRUE)\n",
    "#export results of model\n",
    "write.table(rfDownsampled$results,dec =',','./Data/Results/TOPORes.txt')\n",
    "write.table(rfDownsampled$finalModel$confusion,dec =',', './Data/Results/TOPOFinMod.txt')"
   ]
  }
 ],
 "metadata": {
  "kernelspec": {
   "display_name": "R",
   "language": "R",
   "name": "ir"
  },
  "language_info": {
   "codemirror_mode": "r",
   "file_extension": ".r",
   "mimetype": "text/x-r-source",
   "name": "R",
   "pygments_lexer": "r",
   "version": "3.6.3"
  }
 },
 "nbformat": 4,
 "nbformat_minor": 4
}
