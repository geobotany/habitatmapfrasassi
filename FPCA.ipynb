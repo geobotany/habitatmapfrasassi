{
 "cells": [
  {
   "cell_type": "code",
   "execution_count": null,
   "metadata": {},
   "outputs": [],
   "source": [
    "library(fdapace)\n",
    "library(raster)"
   ]
  },
  {
   "cell_type": "code",
   "execution_count": null,
   "metadata": {},
   "outputs": [],
   "source": [
    "#select the time series - change the TS according to the specral index that you want to evaluate\n",
    "ts.file<- './Data/Time Series/TS_mcari.txt'\n",
    "ts <- t(read.delim(ts.file,header = T, sep = \" \", quote = \"\\\"\", dec = \".\"))"
   ]
  },
  {
   "cell_type": "code",
   "execution_count": null,
   "metadata": {},
   "outputs": [],
   "source": [
    "#plotting all pixel time series\n",
    "matplot(ts, type = 'l')"
   ]
  },
  {
   "cell_type": "code",
   "execution_count": null,
   "metadata": {},
   "outputs": [],
   "source": [
    "#pixel coordinates\n",
    "coord.file <- './Data/Time Series/Coord/coordinates_TS.txt'\n",
    "pixel.coord <- read.delim(coord.file,header = T, sep = \" \", quote = \"\\\"\", dec = \".\")"
   ]
  },
  {
   "cell_type": "code",
   "execution_count": null,
   "metadata": {},
   "outputs": [],
   "source": [
    "#preparing data as data.frame for FPCA\n",
    "tp<- dim(ts)\n",
    "tp1 <- tp[1]\n",
    "tp2 <- tp[2]\n",
    "\n",
    "dati<- as.vector(as.matrix((ts)))\n",
    "time <- as.numeric(rep(1:tp1, tp2))\n",
    "ID <- rep(1:tp2, each = tp1)\n",
    "per.fpca <- as.data.frame(cbind(ID, dati, time))\n",
    "# Turn the original data into a list of paired amplitude and timing lists\n",
    "ts.f <- MakeFPCAInputs(per.fpca$ID, per.fpca$time, per.fpca$dati)"
   ]
  },
  {
   "cell_type": "code",
   "execution_count": null,
   "metadata": {},
   "outputs": [],
   "source": [
    "#run FPCA \n",
    "fpcaObjTS <- FPCA(ts.f$Ly, ts.f$Lt,list(methodXi='IN', methodMuCovEst = 'smooth', userBwCov = 2, kernel= 'gauss',FVEthreshold=0.999))"
   ]
  },
  {
   "cell_type": "code",
   "execution_count": null,
   "metadata": {},
   "outputs": [],
   "source": [
    "#some graphics \n",
    "plot(fpcaObjTS) #general results\n",
    "CreateScreePlot(fpcaObjTS) #variation explained\n",
    "#variation explainend  \n",
    "round((fpcaObjTS$lambda/sum(fpcaObjTS$lambda))*100,3) #each component\n",
    "round(cumsum(fpcaObjTS$lambda/sum(fpcaObjTS$lambda))*100,3) #cumulative"
   ]
  },
  {
   "cell_type": "code",
   "execution_count": null,
   "metadata": {},
   "outputs": [],
   "source": [
    "#plot the modality of variation of the first component (change k for other components)\n",
    "CreateModeOfVarPlot(fpcaObjTS,k = 1, rainbowPlot = TRUE,col= c( \"blue\",\"white\",\"red\"))# "
   ]
  },
  {
   "cell_type": "code",
   "execution_count": null,
   "metadata": {},
   "outputs": [],
   "source": [
    "#estract scores and joining with pixel.coordinates \n",
    "FPCA.scores <- fpcaObjTS$xiEst\n",
    "\n",
    "FPCA.scores.coord <- cbind(pixel.coord,FPCA.scores)\n",
    "FPCA.comp.rast <- rasterFromXYZ(FPCA.scores.coord) \n",
    "\n",
    "#plotting the spatial pattern of the FPCA components\n",
    "plot(FPCA.comp.rast[[1]])\n"
   ]
  },
  {
   "cell_type": "code",
   "execution_count": null,
   "metadata": {},
   "outputs": [],
   "source": [
    "#plotting temporal and spatial pattern of the selected components (useful for interpretation)\n",
    "#change k for choose the component\n",
    "k=1 #setting the first component\n",
    "par(mfrow=c(1,2))\n",
    "CreateModeOfVarPlot(fpcaObjTS,k = k, rainbowPlot = TRUE,col= c( \"blue\",\"white\",\"red\"))\n",
    "plot(FPCA.comp.rast[[k]],col=colorRampPalette(c(\"blue\", \"white\", \"red\"))(255))"
   ]
  },
  {
   "cell_type": "code",
   "execution_count": 21,
   "metadata": {},
   "outputs": [],
   "source": [
    "#export predictor to be used for the classification stage...\n",
    "#change the path according to the selected index...\n",
    "crs(FPCA.comp.rast) <- \"EPSG:32633\"\n",
    "writeRaster(FPCA.comp.rast, \"./Data/Predictors/_tmpc_MCARI_FPCs.tif\", datatype='FLT4S', overwrite=TRUE)"
   ]
  }
 ],
 "metadata": {
  "kernelspec": {
   "display_name": "R",
   "language": "R",
   "name": "ir"
  },
  "language_info": {
   "codemirror_mode": "r",
   "file_extension": ".r",
   "mimetype": "text/x-r-source",
   "name": "R",
   "pygments_lexer": "r",
   "version": "3.6.3"
  }
 },
 "nbformat": 4,
 "nbformat_minor": 4
}
